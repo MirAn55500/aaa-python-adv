{
  "cells": [
    {
      "cell_type": "markdown",
      "id": "11a22a53",
      "metadata": {
        "id": "11a22a53"
      },
      "source": [
        "# Дектораторы\n",
        "\n",
        "В этом домашнем задании мы напишем собственные дектораторы, которые будут менять системные объекты. Но для начала мы с вами познакомимся с функцией `write`."
      ]
    },
    {
      "cell_type": "code",
      "execution_count": 1,
      "id": "2c2dc3b0",
      "metadata": {
        "id": "2c2dc3b0",
        "outputId": "7a6dea2c-d164-43d5-edc9-9f25e8dfd368",
        "colab": {
          "base_uri": "https://localhost:8080/"
        }
      },
      "outputs": [
        {
          "output_type": "stream",
          "name": "stdout",
          "text": [
            "Hello, my friend!"
          ]
        }
      ],
      "source": [
        "import sys\n",
        "\n",
        "sys.stdout.write('Hello, my friend!')"
      ]
    },
    {
      "cell_type": "markdown",
      "id": "23c92635",
      "metadata": {
        "id": "23c92635"
      },
      "source": [
        "Это метод объектов file-like классов, то есть классов, которые реализуют семантику \"Меня можно создать, из меня можно прочитать и в меня можно записать\".\n",
        "\n",
        "Самый главный пример такого объекта -- объект `file`, являющийся результатом вызова фукнции `open()`. Для простоты и универсальности взаимодействия, стандартный ввод и стандартный вывод тоже являются файлами, из которых можно читать и в которые можно писать."
      ]
    },
    {
      "cell_type": "markdown",
      "id": "23b94491",
      "metadata": {
        "id": "23b94491"
      },
      "source": [
        "## Задача 1"
      ]
    },
    {
      "cell_type": "markdown",
      "id": "1eb22a2f",
      "metadata": {
        "id": "1eb22a2f"
      },
      "source": [
        "Для начала, давайте подменим метод `write` у объекта `sys.stdin` на такую функцию, которая перед каждым вызовом оригинальной функции записи данных в `stdout` допечатывает к тексту текущую метку времени."
      ]
    },
    {
      "cell_type": "code",
      "source": [
        "from datetime import datetime\n",
        "original_write = sys.stdout.write"
      ],
      "metadata": {
        "id": "Fh3h42O1jdpT"
      },
      "id": "Fh3h42O1jdpT",
      "execution_count": 2,
      "outputs": []
    },
    {
      "cell_type": "code",
      "execution_count": 45,
      "id": "732073b9",
      "metadata": {
        "id": "732073b9"
      },
      "outputs": [],
      "source": [
        "def my_write(string_text):\n",
        "    if string_text != '\\n':\n",
        "      original_write(f\"[{datetime.now().strftime('%Y-%m-%d %H:%m:%S')}]: {string_text}\")\n",
        "\n",
        "sys.stdout.write = my_write"
      ]
    },
    {
      "cell_type": "code",
      "execution_count": 46,
      "id": "d8f650f6",
      "metadata": {
        "id": "d8f650f6",
        "colab": {
          "base_uri": "https://localhost:8080/"
        },
        "outputId": "5799addf-584c-4819-ed17-c2b99c5737f4"
      },
      "outputs": [
        {
          "output_type": "stream",
          "name": "stdout",
          "text": [
            "[2023-12-11 15:12:00]: 1, 2, 3"
          ]
        }
      ],
      "source": [
        "print('1, 2, 3')"
      ]
    },
    {
      "cell_type": "code",
      "execution_count": 47,
      "id": "37617332",
      "metadata": {
        "id": "37617332"
      },
      "outputs": [],
      "source": [
        "sys.stdout.write = original_write"
      ]
    },
    {
      "cell_type": "markdown",
      "id": "3c5e22b6",
      "metadata": {
        "id": "3c5e22b6"
      },
      "source": [
        "Вывод должен был бы быть примерно таким:"
      ]
    },
    {
      "cell_type": "markdown",
      "id": "e62d012d",
      "metadata": {
        "id": "e62d012d"
      },
      "source": [
        "```\n",
        "[2021-12-05 12:00:00]: 1, 2, 3\n",
        "```"
      ]
    },
    {
      "cell_type": "markdown",
      "id": "903fcee1",
      "metadata": {
        "id": "903fcee1"
      },
      "source": [
        "## Задача 2\n",
        "\n",
        "Упакуйте только что написанный код в декторатор. Весь вывод фукнции должен быть помечен временными метками так, как видно выше."
      ]
    },
    {
      "cell_type": "code",
      "execution_count": 81,
      "id": "5804423b",
      "metadata": {
        "id": "5804423b"
      },
      "outputs": [],
      "source": [
        "def timed_output(function):\n",
        "    def wrapper(*args):\n",
        "      print(f\"[{datetime.now().strftime('%Y-%m-%d %H:%m:%S')}]:\", end=' ')\n",
        "      function(*args)\n",
        "    return wrapper"
      ]
    },
    {
      "cell_type": "code",
      "execution_count": 82,
      "id": "f43373a5",
      "metadata": {
        "id": "f43373a5"
      },
      "outputs": [],
      "source": [
        "@timed_output\n",
        "def print_greeting(name):\n",
        "    print(f'Hello, {name}!')"
      ]
    },
    {
      "cell_type": "code",
      "execution_count": 83,
      "id": "6a2283db",
      "metadata": {
        "id": "6a2283db",
        "outputId": "d09a46bd-1402-4ca8-f699-47eebcc2f8f5",
        "colab": {
          "base_uri": "https://localhost:8080/"
        }
      },
      "outputs": [
        {
          "output_type": "stream",
          "name": "stdout",
          "text": [
            "[2023-12-11 16:12:31]: Hello, Nikita!\n"
          ]
        }
      ],
      "source": [
        "print_greeting(\"Nikita\")"
      ]
    },
    {
      "cell_type": "markdown",
      "id": "37fad5fd",
      "metadata": {
        "id": "37fad5fd"
      },
      "source": [
        "Вывод должен быть похож на следующий:\n",
        "\n",
        "```\n",
        "[2021-12-05 12:00:00]: Hello, Nikita!\n",
        "```"
      ]
    },
    {
      "cell_type": "markdown",
      "id": "8a3aee6d",
      "metadata": {
        "id": "8a3aee6d"
      },
      "source": [
        "## Задача 3\n",
        "\n",
        "Напишите декторатор, который будет перенаправлять вывод фукнции в файл.\n",
        "\n",
        "Подсказка: вы можете заменить объект sys.stdout каким-нибудь другим объектом."
      ]
    },
    {
      "cell_type": "code",
      "source": [
        "sys.stdout.write = original_write"
      ],
      "metadata": {
        "id": "6EXSWrwOpgqD"
      },
      "id": "6EXSWrwOpgqD",
      "execution_count": 169,
      "outputs": []
    },
    {
      "cell_type": "code",
      "execution_count": 170,
      "id": "de733186",
      "metadata": {
        "id": "de733186"
      },
      "outputs": [],
      "source": [
        "def redirect_output(filepath):\n",
        "    def decorator(func):\n",
        "      file = open(filepath, 'w')\n",
        "      def wrapper():\n",
        "        sys.stdout.write = file.write\n",
        "        func()\n",
        "      return wrapper\n",
        "    return decorator"
      ]
    },
    {
      "cell_type": "code",
      "execution_count": 171,
      "id": "37e01742",
      "metadata": {
        "id": "37e01742"
      },
      "outputs": [],
      "source": [
        "@redirect_output('/content/function_output.txt')\n",
        "def calculate():\n",
        "    for power in range(1, 5):\n",
        "        for num in range(1, 20):\n",
        "            print(num ** power, end=' ')\n",
        "        print()"
      ]
    },
    {
      "cell_type": "code",
      "execution_count": 172,
      "id": "e892f124",
      "metadata": {
        "id": "e892f124"
      },
      "outputs": [],
      "source": [
        "calculate()"
      ]
    },
    {
      "cell_type": "markdown",
      "source": [
        "![image.png](data:image/png;base64,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)\n"
      ],
      "metadata": {
        "id": "ekedG3UsvTfN"
      },
      "id": "ekedG3UsvTfN"
    }
  ],
  "metadata": {
    "kernelspec": {
      "display_name": "Python 3 (ipykernel)",
      "language": "python",
      "name": "python3"
    },
    "language_info": {
      "codemirror_mode": {
        "name": "ipython",
        "version": 3
      },
      "file_extension": ".py",
      "mimetype": "text/x-python",
      "name": "python",
      "nbconvert_exporter": "python",
      "pygments_lexer": "ipython3",
      "version": "3.9.9"
    },
    "colab": {
      "provenance": []
    }
  },
  "nbformat": 4,
  "nbformat_minor": 5
}